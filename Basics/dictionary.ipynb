{
 "cells": [
  {
   "cell_type": "code",
   "execution_count": 1,
   "metadata": {},
   "outputs": [
    {
     "data": {
      "text/plain": [
       "{'k1': 'cat', 'k2': 'dog', 'k3': 'mouse', 'k4': 'cat'}"
      ]
     },
     "execution_count": 1,
     "metadata": {},
     "output_type": "execute_result"
    }
   ],
   "source": [
    "dict = {'k1':'cat', 'k2':'dog', 'k3':'mouse', 'k4':'cat'}\n",
    "dict"
   ]
  },
  {
   "cell_type": "code",
   "execution_count": 2,
   "metadata": {},
   "outputs": [
    {
     "data": {
      "text/plain": [
       "'cat'"
      ]
     },
     "execution_count": 2,
     "metadata": {},
     "output_type": "execute_result"
    }
   ],
   "source": [
    "dict['k1']"
   ]
  },
  {
   "cell_type": "code",
   "execution_count": 4,
   "metadata": {},
   "outputs": [
    {
     "data": {
      "text/plain": [
       "{'k1': 'cat', 'k2': 'dog', 'k3': 'mouse', 'k4': 'cat', 'k5': 'parrot'}"
      ]
     },
     "execution_count": 4,
     "metadata": {},
     "output_type": "execute_result"
    }
   ],
   "source": [
    "dict['k5'] = 'parrot'\n",
    "dict"
   ]
  },
  {
   "cell_type": "code",
   "execution_count": 5,
   "metadata": {},
   "outputs": [
    {
     "data": {
      "text/plain": [
       "{'k1': 'cat', 'k2': 'squirrel', 'k3': 'mouse', 'k4': 'cat', 'k5': 'parrot'}"
      ]
     },
     "execution_count": 5,
     "metadata": {},
     "output_type": "execute_result"
    }
   ],
   "source": [
    "dict['k2'] = 'squirrel'\n",
    "dict"
   ]
  },
  {
   "cell_type": "code",
   "execution_count": 7,
   "metadata": {},
   "outputs": [],
   "source": [
    "dep_workers = {'dep1':'Peter', 'dep2':['Jennifer', 'Michael', 'Tommy']}"
   ]
  },
  {
   "cell_type": "code",
   "execution_count": 8,
   "metadata": {},
   "outputs": [
    {
     "name": "stdout",
     "output_type": "stream",
     "text": [
      "{'Goalkeepers': ['Onana', 'Bayindir', 'Heaton'], 'Right Backs': ['Dalot', 'Wan Bissaka'], 'Center Backs': ['Maguire', 'Varane', 'Martinez', 'Lindelof'], 'Left Backs': ['Shaw', 'Malacia'], 'Midfielders': ['Casemiro', 'Mainoo', 'Eriksen', 'Amrabat', 'McTominay'], 'Attacking Midfielders': ['Fernandes'], 'Left Wingers': ['Rashford', 'Garnacho'], 'Right Wingers': ['Antony', 'Amad'], 'Strikers': ['Hojlund', 'Martial']}\n"
     ]
    }
   ],
   "source": [
    "team = {}\n",
    "team['Goalkeepers'] = ['Onana', 'Bayindir', 'Heaton']\n",
    "team['Right Backs'] = ['Dalot', 'Wan Bissaka']\n",
    "team['Center Backs'] = ['Maguire', 'Varane', 'Martinez', 'Lindelof']\n",
    "team['Left Backs'] = ['Shaw', 'Malacia']\n",
    "team['Midfielders'] = ['Casemiro', 'Mainoo', 'Eriksen', 'Amrabat', 'McTominay']\n",
    "team['Attacking Midfielders'] = ['Fernandes']\n",
    "team['Left Wingers'] = ['Rashford', 'Garnacho']\n",
    "team['Right Wingers'] = ['Antony', 'Amad']\n",
    "team['Strikers'] = ['Hojlund', 'Martial']\n",
    "\n",
    "print(team)"
   ]
  },
  {
   "cell_type": "code",
   "execution_count": 9,
   "metadata": {},
   "outputs": [
    {
     "name": "stdout",
     "output_type": "stream",
     "text": [
      "['Onana', 'Bayindir', 'Heaton']\n"
     ]
    }
   ],
   "source": [
    "print(team['Goalkeepers'])"
   ]
  },
  {
   "cell_type": "code",
   "execution_count": 10,
   "metadata": {},
   "outputs": [
    {
     "data": {
      "text/plain": [
       "['Dalot', 'Wan Bissaka']"
      ]
     },
     "execution_count": 10,
     "metadata": {},
     "output_type": "execute_result"
    }
   ],
   "source": [
    "team.get(\"Right Backs\")"
   ]
  },
  {
   "cell_type": "code",
   "execution_count": null,
   "metadata": {},
   "outputs": [],
   "source": []
  }
 ],
 "metadata": {
  "kernelspec": {
   "display_name": "Python 3",
   "language": "python",
   "name": "python3"
  },
  "language_info": {
   "codemirror_mode": {
    "name": "ipython",
    "version": 3
   },
   "file_extension": ".py",
   "mimetype": "text/x-python",
   "name": "python",
   "nbconvert_exporter": "python",
   "pygments_lexer": "ipython3",
   "version": "3.12.1"
  }
 },
 "nbformat": 4,
 "nbformat_minor": 2
}
