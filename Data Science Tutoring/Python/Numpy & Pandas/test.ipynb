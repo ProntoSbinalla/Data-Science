{
 "cells": [
  {
   "cell_type": "code",
   "execution_count": 66,
   "metadata": {},
   "outputs": [
    {
     "name": "stdout",
     "output_type": "stream",
     "text": [
      "2.2.1\n",
      "[[1, 'A', 10], [2, 'B', 20], [3, 'C', 30]]\n",
      "   id name  age\n",
      "0   1    A   10\n",
      "1   2    B   20\n",
      "2   3    C   30\n"
     ]
    },
    {
     "data": {
      "text/plain": [
       "id       1\n",
       "name     A\n",
       "age     10\n",
       "Name: 0, dtype: object"
      ]
     },
     "execution_count": 66,
     "metadata": {},
     "output_type": "execute_result"
    }
   ],
   "source": [
    "import pandas as pd\n",
    "\n",
    "print(pd.__version__)\n",
    "\n",
    "data = [[1,'A', 10],\n",
    "        [2, 'B', 20],\n",
    "        [3,'C', 30]]\n",
    "\n",
    "print(data)\n",
    "\n",
    "df = pd.DataFrame(data, columns=['id', 'name', 'age'])\n",
    "print(df)\n",
    "\n",
    "df.iloc[0]"
   ]
  },
  {
   "cell_type": "code",
   "execution_count": 67,
   "metadata": {},
   "outputs": [
    {
     "name": "stdout",
     "output_type": "stream",
     "text": [
      "Empty DataFrame\n",
      "Columns: [ID, Name, Age]\n",
      "Index: []\n"
     ]
    }
   ],
   "source": [
    "df = pd.DataFrame(columns=['ID', 'Name', 'Age'])\n",
    "print(df)"
   ]
  },
  {
   "cell_type": "code",
   "execution_count": 68,
   "metadata": {},
   "outputs": [
    {
     "name": "stdout",
     "output_type": "stream",
     "text": [
      "     Name               Major  Age\n",
      "0     Sam        Data Science   22\n",
      "1    John  Biological Science   23\n",
      "2  Joanna  Biological Science   23\n",
      "0       Sam\n",
      "1      John\n",
      "2    Joanna\n",
      "Name: Name, dtype: object\n",
      "0          Data Science\n",
      "1    Biological Science\n",
      "2    Biological Science\n",
      "Name: Major, dtype: object\n",
      "0    22\n",
      "1    23\n",
      "2    23\n",
      "Name: Age, dtype: int64\n"
     ]
    }
   ],
   "source": [
    "import pandas as pd\n",
    "data = {'Name': ['Sam', 'John', 'Joanna'],\n",
    "        'Major': ['Data Science', 'Biological Science', 'Biological Science'],\n",
    "        'Age': [22, 23, 23]}\n",
    "\n",
    "df = pd.DataFrame(data)\n",
    "print(df)\n",
    "\n",
    "for i in df.columns:\n",
    "        print(df[i])"
   ]
  },
  {
   "cell_type": "code",
   "execution_count": 69,
   "metadata": {},
   "outputs": [
    {
     "name": "stdout",
     "output_type": "stream",
     "text": [
      "Name              Sam\n",
      "Major    Data Science\n",
      "Age                22\n",
      "Name: 0, dtype: object\n",
      "Name                   John\n",
      "Major    Biological Science\n",
      "Age                      23\n",
      "Name: 1, dtype: object\n",
      "Name                 Joanna\n",
      "Major    Biological Science\n",
      "Age                      23\n",
      "Name: 2, dtype: object\n"
     ]
    }
   ],
   "source": [
    "for i in df.iterrows():\n",
    "    print(i[1])"
   ]
  },
  {
   "cell_type": "code",
   "execution_count": 70,
   "metadata": {},
   "outputs": [
    {
     "name": "stdout",
     "output_type": "stream",
     "text": [
      "     Name  Age\n",
      "0     Sam   22\n",
      "1    John   23\n",
      "2  Joanna   23\n"
     ]
    }
   ],
   "source": [
    "df1=df.drop('Major', axis=1)\n",
    "print(df1)"
   ]
  },
  {
   "cell_type": "code",
   "execution_count": 71,
   "metadata": {},
   "outputs": [
    {
     "data": {
      "text/plain": [
       "array(['Data Science', 'Biological Science'], dtype=object)"
      ]
     },
     "execution_count": 71,
     "metadata": {},
     "output_type": "execute_result"
    }
   ],
   "source": [
    "df['Major'].unique()"
   ]
  },
  {
   "cell_type": "code",
   "execution_count": 72,
   "metadata": {},
   "outputs": [
    {
     "name": "stdout",
     "output_type": "stream",
     "text": [
      "     Name               Major  Age\n",
      "0     Sam        Data Science   22\n",
      "1    John  Biological Science   23\n",
      "2  Joanna  Biological Science   23\n",
      "3    Luna            Robotics   19\n"
     ]
    }
   ],
   "source": [
    "# df.insert(4, ('Luna', 'Robotics', '19'))\n",
    "\n",
    "# print(df)\n",
    "\n",
    "df.loc[len(df)] = ['Luna', 'Robotics', 19]\n",
    "\n",
    "print(df)"
   ]
  }
 ],
 "metadata": {
  "kernelspec": {
   "display_name": "Python 3",
   "language": "python",
   "name": "python3"
  },
  "language_info": {
   "codemirror_mode": {
    "name": "ipython",
    "version": 3
   },
   "file_extension": ".py",
   "mimetype": "text/x-python",
   "name": "python",
   "nbconvert_exporter": "python",
   "pygments_lexer": "ipython3",
   "version": "3.12.1"
  }
 },
 "nbformat": 4,
 "nbformat_minor": 2
}
